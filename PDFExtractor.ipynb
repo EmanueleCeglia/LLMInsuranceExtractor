{
  "nbformat": 4,
  "nbformat_minor": 0,
  "metadata": {
    "colab": {
      "provenance": [],
      "machine_shape": "hm",
      "gpuType": "A100",
      "authorship_tag": "ABX9TyMFAB+x7qrzz7J8zVsQGihB"
    },
    "kernelspec": {
      "name": "python3",
      "display_name": "Python 3"
    },
    "language_info": {
      "name": "python"
    },
    "accelerator": "GPU",
    "widgets": {
      "application/vnd.jupyter.widget-state+json": {
        "7f76f994c7fa4c13ba1485f648ab5a56": {
          "model_module": "@jupyter-widgets/controls",
          "model_name": "VBoxModel",
          "model_module_version": "1.5.0",
          "state": {
            "_dom_classes": [],
            "_model_module": "@jupyter-widgets/controls",
            "_model_module_version": "1.5.0",
            "_model_name": "VBoxModel",
            "_view_count": null,
            "_view_module": "@jupyter-widgets/controls",
            "_view_module_version": "1.5.0",
            "_view_name": "VBoxView",
            "box_style": "",
            "children": [
              "IPY_MODEL_2fe07b31b1fe45c78fef8b5977bbc461",
              "IPY_MODEL_188ab5844fe4490581fbbbff13669e18",
              "IPY_MODEL_8778f96dd1bf44b6acb6630bdf3f83bf",
              "IPY_MODEL_95ee1ddaf99344b7a522d2a07b4a6578"
            ],
            "layout": "IPY_MODEL_22a8639dbc594a80b7ff45c54e8c3a59"
          }
        },
        "8c47d757314c41dda553af50ec260aba": {
          "model_module": "@jupyter-widgets/controls",
          "model_name": "HTMLModel",
          "model_module_version": "1.5.0",
          "state": {
            "_dom_classes": [],
            "_model_module": "@jupyter-widgets/controls",
            "_model_module_version": "1.5.0",
            "_model_name": "HTMLModel",
            "_view_count": null,
            "_view_module": "@jupyter-widgets/controls",
            "_view_module_version": "1.5.0",
            "_view_name": "HTMLView",
            "description": "",
            "description_tooltip": null,
            "layout": "IPY_MODEL_2fdcedf11c9c40e5abdcfa6074a3ecb9",
            "placeholder": "​",
            "style": "IPY_MODEL_b3b5c3c8a2704ac8bbbf2ff9493aafa8",
            "value": "<center> <img\nsrc=https://huggingface.co/front/assets/huggingface_logo-noborder.svg\nalt='Hugging Face'> <br> Copy a token from <a\nhref=\"https://huggingface.co/settings/tokens\" target=\"_blank\">your Hugging Face\ntokens page</a> and paste it below. <br> Immediately click login after copying\nyour token or it might be stored in plain text in this notebook file. </center>"
          }
        },
        "cf902bcb49f8407eb31412dc57acc4d0": {
          "model_module": "@jupyter-widgets/controls",
          "model_name": "PasswordModel",
          "model_module_version": "1.5.0",
          "state": {
            "_dom_classes": [],
            "_model_module": "@jupyter-widgets/controls",
            "_model_module_version": "1.5.0",
            "_model_name": "PasswordModel",
            "_view_count": null,
            "_view_module": "@jupyter-widgets/controls",
            "_view_module_version": "1.5.0",
            "_view_name": "PasswordView",
            "continuous_update": true,
            "description": "Token:",
            "description_tooltip": null,
            "disabled": false,
            "layout": "IPY_MODEL_f7fd96054fca483ab3e3e0d9b14750a6",
            "placeholder": "​",
            "style": "IPY_MODEL_8a97ca0d6a694dc194f9a42968415b1f",
            "value": ""
          }
        },
        "03c8afaeb3e847c7ae01d0abcfa34f44": {
          "model_module": "@jupyter-widgets/controls",
          "model_name": "CheckboxModel",
          "model_module_version": "1.5.0",
          "state": {
            "_dom_classes": [],
            "_model_module": "@jupyter-widgets/controls",
            "_model_module_version": "1.5.0",
            "_model_name": "CheckboxModel",
            "_view_count": null,
            "_view_module": "@jupyter-widgets/controls",
            "_view_module_version": "1.5.0",
            "_view_name": "CheckboxView",
            "description": "Add token as git credential?",
            "description_tooltip": null,
            "disabled": false,
            "indent": true,
            "layout": "IPY_MODEL_f5ca99150be341e4a40da20f6d5785b6",
            "style": "IPY_MODEL_6b7ce58fb84d493b92ea6225705027ec",
            "value": true
          }
        },
        "44ec9aded94c4ec09a837ede9ece454b": {
          "model_module": "@jupyter-widgets/controls",
          "model_name": "ButtonModel",
          "model_module_version": "1.5.0",
          "state": {
            "_dom_classes": [],
            "_model_module": "@jupyter-widgets/controls",
            "_model_module_version": "1.5.0",
            "_model_name": "ButtonModel",
            "_view_count": null,
            "_view_module": "@jupyter-widgets/controls",
            "_view_module_version": "1.5.0",
            "_view_name": "ButtonView",
            "button_style": "",
            "description": "Login",
            "disabled": false,
            "icon": "",
            "layout": "IPY_MODEL_5dec1adb6dca4f9ba27e7cafbb95cd13",
            "style": "IPY_MODEL_caa3e89d1c8744ce941f0b4563cf0ed4",
            "tooltip": ""
          }
        },
        "ec4603d3d1aa485e9acd0e111c352dea": {
          "model_module": "@jupyter-widgets/controls",
          "model_name": "HTMLModel",
          "model_module_version": "1.5.0",
          "state": {
            "_dom_classes": [],
            "_model_module": "@jupyter-widgets/controls",
            "_model_module_version": "1.5.0",
            "_model_name": "HTMLModel",
            "_view_count": null,
            "_view_module": "@jupyter-widgets/controls",
            "_view_module_version": "1.5.0",
            "_view_name": "HTMLView",
            "description": "",
            "description_tooltip": null,
            "layout": "IPY_MODEL_1e48fb77a7184d9884fee5b045392c18",
            "placeholder": "​",
            "style": "IPY_MODEL_43513e0162c944ad93782ef1fbf01d0f",
            "value": "\n<b>Pro Tip:</b> If you don't already have one, you can create a dedicated\n'notebooks' token with 'write' access, that you can then easily reuse for all\nnotebooks. </center>"
          }
        },
        "22a8639dbc594a80b7ff45c54e8c3a59": {
          "model_module": "@jupyter-widgets/base",
          "model_name": "LayoutModel",
          "model_module_version": "1.2.0",
          "state": {
            "_model_module": "@jupyter-widgets/base",
            "_model_module_version": "1.2.0",
            "_model_name": "LayoutModel",
            "_view_count": null,
            "_view_module": "@jupyter-widgets/base",
            "_view_module_version": "1.2.0",
            "_view_name": "LayoutView",
            "align_content": null,
            "align_items": "center",
            "align_self": null,
            "border": null,
            "bottom": null,
            "display": "flex",
            "flex": null,
            "flex_flow": "column",
            "grid_area": null,
            "grid_auto_columns": null,
            "grid_auto_flow": null,
            "grid_auto_rows": null,
            "grid_column": null,
            "grid_gap": null,
            "grid_row": null,
            "grid_template_areas": null,
            "grid_template_columns": null,
            "grid_template_rows": null,
            "height": null,
            "justify_content": null,
            "justify_items": null,
            "left": null,
            "margin": null,
            "max_height": null,
            "max_width": null,
            "min_height": null,
            "min_width": null,
            "object_fit": null,
            "object_position": null,
            "order": null,
            "overflow": null,
            "overflow_x": null,
            "overflow_y": null,
            "padding": null,
            "right": null,
            "top": null,
            "visibility": null,
            "width": "50%"
          }
        },
        "2fdcedf11c9c40e5abdcfa6074a3ecb9": {
          "model_module": "@jupyter-widgets/base",
          "model_name": "LayoutModel",
          "model_module_version": "1.2.0",
          "state": {
            "_model_module": "@jupyter-widgets/base",
            "_model_module_version": "1.2.0",
            "_model_name": "LayoutModel",
            "_view_count": null,
            "_view_module": "@jupyter-widgets/base",
            "_view_module_version": "1.2.0",
            "_view_name": "LayoutView",
            "align_content": null,
            "align_items": null,
            "align_self": null,
            "border": null,
            "bottom": null,
            "display": null,
            "flex": null,
            "flex_flow": null,
            "grid_area": null,
            "grid_auto_columns": null,
            "grid_auto_flow": null,
            "grid_auto_rows": null,
            "grid_column": null,
            "grid_gap": null,
            "grid_row": null,
            "grid_template_areas": null,
            "grid_template_columns": null,
            "grid_template_rows": null,
            "height": null,
            "justify_content": null,
            "justify_items": null,
            "left": null,
            "margin": null,
            "max_height": null,
            "max_width": null,
            "min_height": null,
            "min_width": null,
            "object_fit": null,
            "object_position": null,
            "order": null,
            "overflow": null,
            "overflow_x": null,
            "overflow_y": null,
            "padding": null,
            "right": null,
            "top": null,
            "visibility": null,
            "width": null
          }
        },
        "b3b5c3c8a2704ac8bbbf2ff9493aafa8": {
          "model_module": "@jupyter-widgets/controls",
          "model_name": "DescriptionStyleModel",
          "model_module_version": "1.5.0",
          "state": {
            "_model_module": "@jupyter-widgets/controls",
            "_model_module_version": "1.5.0",
            "_model_name": "DescriptionStyleModel",
            "_view_count": null,
            "_view_module": "@jupyter-widgets/base",
            "_view_module_version": "1.2.0",
            "_view_name": "StyleView",
            "description_width": ""
          }
        },
        "f7fd96054fca483ab3e3e0d9b14750a6": {
          "model_module": "@jupyter-widgets/base",
          "model_name": "LayoutModel",
          "model_module_version": "1.2.0",
          "state": {
            "_model_module": "@jupyter-widgets/base",
            "_model_module_version": "1.2.0",
            "_model_name": "LayoutModel",
            "_view_count": null,
            "_view_module": "@jupyter-widgets/base",
            "_view_module_version": "1.2.0",
            "_view_name": "LayoutView",
            "align_content": null,
            "align_items": null,
            "align_self": null,
            "border": null,
            "bottom": null,
            "display": null,
            "flex": null,
            "flex_flow": null,
            "grid_area": null,
            "grid_auto_columns": null,
            "grid_auto_flow": null,
            "grid_auto_rows": null,
            "grid_column": null,
            "grid_gap": null,
            "grid_row": null,
            "grid_template_areas": null,
            "grid_template_columns": null,
            "grid_template_rows": null,
            "height": null,
            "justify_content": null,
            "justify_items": null,
            "left": null,
            "margin": null,
            "max_height": null,
            "max_width": null,
            "min_height": null,
            "min_width": null,
            "object_fit": null,
            "object_position": null,
            "order": null,
            "overflow": null,
            "overflow_x": null,
            "overflow_y": null,
            "padding": null,
            "right": null,
            "top": null,
            "visibility": null,
            "width": null
          }
        },
        "8a97ca0d6a694dc194f9a42968415b1f": {
          "model_module": "@jupyter-widgets/controls",
          "model_name": "DescriptionStyleModel",
          "model_module_version": "1.5.0",
          "state": {
            "_model_module": "@jupyter-widgets/controls",
            "_model_module_version": "1.5.0",
            "_model_name": "DescriptionStyleModel",
            "_view_count": null,
            "_view_module": "@jupyter-widgets/base",
            "_view_module_version": "1.2.0",
            "_view_name": "StyleView",
            "description_width": ""
          }
        },
        "f5ca99150be341e4a40da20f6d5785b6": {
          "model_module": "@jupyter-widgets/base",
          "model_name": "LayoutModel",
          "model_module_version": "1.2.0",
          "state": {
            "_model_module": "@jupyter-widgets/base",
            "_model_module_version": "1.2.0",
            "_model_name": "LayoutModel",
            "_view_count": null,
            "_view_module": "@jupyter-widgets/base",
            "_view_module_version": "1.2.0",
            "_view_name": "LayoutView",
            "align_content": null,
            "align_items": null,
            "align_self": null,
            "border": null,
            "bottom": null,
            "display": null,
            "flex": null,
            "flex_flow": null,
            "grid_area": null,
            "grid_auto_columns": null,
            "grid_auto_flow": null,
            "grid_auto_rows": null,
            "grid_column": null,
            "grid_gap": null,
            "grid_row": null,
            "grid_template_areas": null,
            "grid_template_columns": null,
            "grid_template_rows": null,
            "height": null,
            "justify_content": null,
            "justify_items": null,
            "left": null,
            "margin": null,
            "max_height": null,
            "max_width": null,
            "min_height": null,
            "min_width": null,
            "object_fit": null,
            "object_position": null,
            "order": null,
            "overflow": null,
            "overflow_x": null,
            "overflow_y": null,
            "padding": null,
            "right": null,
            "top": null,
            "visibility": null,
            "width": null
          }
        },
        "6b7ce58fb84d493b92ea6225705027ec": {
          "model_module": "@jupyter-widgets/controls",
          "model_name": "DescriptionStyleModel",
          "model_module_version": "1.5.0",
          "state": {
            "_model_module": "@jupyter-widgets/controls",
            "_model_module_version": "1.5.0",
            "_model_name": "DescriptionStyleModel",
            "_view_count": null,
            "_view_module": "@jupyter-widgets/base",
            "_view_module_version": "1.2.0",
            "_view_name": "StyleView",
            "description_width": ""
          }
        },
        "5dec1adb6dca4f9ba27e7cafbb95cd13": {
          "model_module": "@jupyter-widgets/base",
          "model_name": "LayoutModel",
          "model_module_version": "1.2.0",
          "state": {
            "_model_module": "@jupyter-widgets/base",
            "_model_module_version": "1.2.0",
            "_model_name": "LayoutModel",
            "_view_count": null,
            "_view_module": "@jupyter-widgets/base",
            "_view_module_version": "1.2.0",
            "_view_name": "LayoutView",
            "align_content": null,
            "align_items": null,
            "align_self": null,
            "border": null,
            "bottom": null,
            "display": null,
            "flex": null,
            "flex_flow": null,
            "grid_area": null,
            "grid_auto_columns": null,
            "grid_auto_flow": null,
            "grid_auto_rows": null,
            "grid_column": null,
            "grid_gap": null,
            "grid_row": null,
            "grid_template_areas": null,
            "grid_template_columns": null,
            "grid_template_rows": null,
            "height": null,
            "justify_content": null,
            "justify_items": null,
            "left": null,
            "margin": null,
            "max_height": null,
            "max_width": null,
            "min_height": null,
            "min_width": null,
            "object_fit": null,
            "object_position": null,
            "order": null,
            "overflow": null,
            "overflow_x": null,
            "overflow_y": null,
            "padding": null,
            "right": null,
            "top": null,
            "visibility": null,
            "width": null
          }
        },
        "caa3e89d1c8744ce941f0b4563cf0ed4": {
          "model_module": "@jupyter-widgets/controls",
          "model_name": "ButtonStyleModel",
          "model_module_version": "1.5.0",
          "state": {
            "_model_module": "@jupyter-widgets/controls",
            "_model_module_version": "1.5.0",
            "_model_name": "ButtonStyleModel",
            "_view_count": null,
            "_view_module": "@jupyter-widgets/base",
            "_view_module_version": "1.2.0",
            "_view_name": "StyleView",
            "button_color": null,
            "font_weight": ""
          }
        },
        "1e48fb77a7184d9884fee5b045392c18": {
          "model_module": "@jupyter-widgets/base",
          "model_name": "LayoutModel",
          "model_module_version": "1.2.0",
          "state": {
            "_model_module": "@jupyter-widgets/base",
            "_model_module_version": "1.2.0",
            "_model_name": "LayoutModel",
            "_view_count": null,
            "_view_module": "@jupyter-widgets/base",
            "_view_module_version": "1.2.0",
            "_view_name": "LayoutView",
            "align_content": null,
            "align_items": null,
            "align_self": null,
            "border": null,
            "bottom": null,
            "display": null,
            "flex": null,
            "flex_flow": null,
            "grid_area": null,
            "grid_auto_columns": null,
            "grid_auto_flow": null,
            "grid_auto_rows": null,
            "grid_column": null,
            "grid_gap": null,
            "grid_row": null,
            "grid_template_areas": null,
            "grid_template_columns": null,
            "grid_template_rows": null,
            "height": null,
            "justify_content": null,
            "justify_items": null,
            "left": null,
            "margin": null,
            "max_height": null,
            "max_width": null,
            "min_height": null,
            "min_width": null,
            "object_fit": null,
            "object_position": null,
            "order": null,
            "overflow": null,
            "overflow_x": null,
            "overflow_y": null,
            "padding": null,
            "right": null,
            "top": null,
            "visibility": null,
            "width": null
          }
        },
        "43513e0162c944ad93782ef1fbf01d0f": {
          "model_module": "@jupyter-widgets/controls",
          "model_name": "DescriptionStyleModel",
          "model_module_version": "1.5.0",
          "state": {
            "_model_module": "@jupyter-widgets/controls",
            "_model_module_version": "1.5.0",
            "_model_name": "DescriptionStyleModel",
            "_view_count": null,
            "_view_module": "@jupyter-widgets/base",
            "_view_module_version": "1.2.0",
            "_view_name": "StyleView",
            "description_width": ""
          }
        },
        "d81b1fd69b1e4e808a5d4778126fe127": {
          "model_module": "@jupyter-widgets/controls",
          "model_name": "LabelModel",
          "model_module_version": "1.5.0",
          "state": {
            "_dom_classes": [],
            "_model_module": "@jupyter-widgets/controls",
            "_model_module_version": "1.5.0",
            "_model_name": "LabelModel",
            "_view_count": null,
            "_view_module": "@jupyter-widgets/controls",
            "_view_module_version": "1.5.0",
            "_view_name": "LabelView",
            "description": "",
            "description_tooltip": null,
            "layout": "IPY_MODEL_453215dd3a2f415cbd5c44a07a56288a",
            "placeholder": "​",
            "style": "IPY_MODEL_8d91d91d01c24ed58d9e8351240f3156",
            "value": "Connecting..."
          }
        },
        "453215dd3a2f415cbd5c44a07a56288a": {
          "model_module": "@jupyter-widgets/base",
          "model_name": "LayoutModel",
          "model_module_version": "1.2.0",
          "state": {
            "_model_module": "@jupyter-widgets/base",
            "_model_module_version": "1.2.0",
            "_model_name": "LayoutModel",
            "_view_count": null,
            "_view_module": "@jupyter-widgets/base",
            "_view_module_version": "1.2.0",
            "_view_name": "LayoutView",
            "align_content": null,
            "align_items": null,
            "align_self": null,
            "border": null,
            "bottom": null,
            "display": null,
            "flex": null,
            "flex_flow": null,
            "grid_area": null,
            "grid_auto_columns": null,
            "grid_auto_flow": null,
            "grid_auto_rows": null,
            "grid_column": null,
            "grid_gap": null,
            "grid_row": null,
            "grid_template_areas": null,
            "grid_template_columns": null,
            "grid_template_rows": null,
            "height": null,
            "justify_content": null,
            "justify_items": null,
            "left": null,
            "margin": null,
            "max_height": null,
            "max_width": null,
            "min_height": null,
            "min_width": null,
            "object_fit": null,
            "object_position": null,
            "order": null,
            "overflow": null,
            "overflow_x": null,
            "overflow_y": null,
            "padding": null,
            "right": null,
            "top": null,
            "visibility": null,
            "width": null
          }
        },
        "8d91d91d01c24ed58d9e8351240f3156": {
          "model_module": "@jupyter-widgets/controls",
          "model_name": "DescriptionStyleModel",
          "model_module_version": "1.5.0",
          "state": {
            "_model_module": "@jupyter-widgets/controls",
            "_model_module_version": "1.5.0",
            "_model_name": "DescriptionStyleModel",
            "_view_count": null,
            "_view_module": "@jupyter-widgets/base",
            "_view_module_version": "1.2.0",
            "_view_name": "StyleView",
            "description_width": ""
          }
        },
        "2fe07b31b1fe45c78fef8b5977bbc461": {
          "model_module": "@jupyter-widgets/controls",
          "model_name": "LabelModel",
          "model_module_version": "1.5.0",
          "state": {
            "_dom_classes": [],
            "_model_module": "@jupyter-widgets/controls",
            "_model_module_version": "1.5.0",
            "_model_name": "LabelModel",
            "_view_count": null,
            "_view_module": "@jupyter-widgets/controls",
            "_view_module_version": "1.5.0",
            "_view_name": "LabelView",
            "description": "",
            "description_tooltip": null,
            "layout": "IPY_MODEL_9b3b2b75c7b2498095dcae90e868d2cf",
            "placeholder": "​",
            "style": "IPY_MODEL_ef2fbf0e609b47eba2edf77673f513d2",
            "value": "Token is valid (permission: read)."
          }
        },
        "188ab5844fe4490581fbbbff13669e18": {
          "model_module": "@jupyter-widgets/controls",
          "model_name": "LabelModel",
          "model_module_version": "1.5.0",
          "state": {
            "_dom_classes": [],
            "_model_module": "@jupyter-widgets/controls",
            "_model_module_version": "1.5.0",
            "_model_name": "LabelModel",
            "_view_count": null,
            "_view_module": "@jupyter-widgets/controls",
            "_view_module_version": "1.5.0",
            "_view_name": "LabelView",
            "description": "",
            "description_tooltip": null,
            "layout": "IPY_MODEL_a7c3b39f6ce64315b47803212fbc1293",
            "placeholder": "​",
            "style": "IPY_MODEL_3aa8e75bee9145b3ba421e9fd386db98",
            "value": "Your token has been saved in your configured git credential helpers (store)."
          }
        },
        "8778f96dd1bf44b6acb6630bdf3f83bf": {
          "model_module": "@jupyter-widgets/controls",
          "model_name": "LabelModel",
          "model_module_version": "1.5.0",
          "state": {
            "_dom_classes": [],
            "_model_module": "@jupyter-widgets/controls",
            "_model_module_version": "1.5.0",
            "_model_name": "LabelModel",
            "_view_count": null,
            "_view_module": "@jupyter-widgets/controls",
            "_view_module_version": "1.5.0",
            "_view_name": "LabelView",
            "description": "",
            "description_tooltip": null,
            "layout": "IPY_MODEL_35053a1868da4d55b0555db5fbeda37f",
            "placeholder": "​",
            "style": "IPY_MODEL_5739b6d73bce4b7b8521244dfe15657d",
            "value": "Your token has been saved to /root/.cache/huggingface/token"
          }
        },
        "95ee1ddaf99344b7a522d2a07b4a6578": {
          "model_module": "@jupyter-widgets/controls",
          "model_name": "LabelModel",
          "model_module_version": "1.5.0",
          "state": {
            "_dom_classes": [],
            "_model_module": "@jupyter-widgets/controls",
            "_model_module_version": "1.5.0",
            "_model_name": "LabelModel",
            "_view_count": null,
            "_view_module": "@jupyter-widgets/controls",
            "_view_module_version": "1.5.0",
            "_view_name": "LabelView",
            "description": "",
            "description_tooltip": null,
            "layout": "IPY_MODEL_3c5fe9a7a94d4e7883876aefd7283499",
            "placeholder": "​",
            "style": "IPY_MODEL_4351f66515eb49ba8c6fc76d987550fe",
            "value": "Login successful"
          }
        },
        "9b3b2b75c7b2498095dcae90e868d2cf": {
          "model_module": "@jupyter-widgets/base",
          "model_name": "LayoutModel",
          "model_module_version": "1.2.0",
          "state": {
            "_model_module": "@jupyter-widgets/base",
            "_model_module_version": "1.2.0",
            "_model_name": "LayoutModel",
            "_view_count": null,
            "_view_module": "@jupyter-widgets/base",
            "_view_module_version": "1.2.0",
            "_view_name": "LayoutView",
            "align_content": null,
            "align_items": null,
            "align_self": null,
            "border": null,
            "bottom": null,
            "display": null,
            "flex": null,
            "flex_flow": null,
            "grid_area": null,
            "grid_auto_columns": null,
            "grid_auto_flow": null,
            "grid_auto_rows": null,
            "grid_column": null,
            "grid_gap": null,
            "grid_row": null,
            "grid_template_areas": null,
            "grid_template_columns": null,
            "grid_template_rows": null,
            "height": null,
            "justify_content": null,
            "justify_items": null,
            "left": null,
            "margin": null,
            "max_height": null,
            "max_width": null,
            "min_height": null,
            "min_width": null,
            "object_fit": null,
            "object_position": null,
            "order": null,
            "overflow": null,
            "overflow_x": null,
            "overflow_y": null,
            "padding": null,
            "right": null,
            "top": null,
            "visibility": null,
            "width": null
          }
        },
        "ef2fbf0e609b47eba2edf77673f513d2": {
          "model_module": "@jupyter-widgets/controls",
          "model_name": "DescriptionStyleModel",
          "model_module_version": "1.5.0",
          "state": {
            "_model_module": "@jupyter-widgets/controls",
            "_model_module_version": "1.5.0",
            "_model_name": "DescriptionStyleModel",
            "_view_count": null,
            "_view_module": "@jupyter-widgets/base",
            "_view_module_version": "1.2.0",
            "_view_name": "StyleView",
            "description_width": ""
          }
        },
        "a7c3b39f6ce64315b47803212fbc1293": {
          "model_module": "@jupyter-widgets/base",
          "model_name": "LayoutModel",
          "model_module_version": "1.2.0",
          "state": {
            "_model_module": "@jupyter-widgets/base",
            "_model_module_version": "1.2.0",
            "_model_name": "LayoutModel",
            "_view_count": null,
            "_view_module": "@jupyter-widgets/base",
            "_view_module_version": "1.2.0",
            "_view_name": "LayoutView",
            "align_content": null,
            "align_items": null,
            "align_self": null,
            "border": null,
            "bottom": null,
            "display": null,
            "flex": null,
            "flex_flow": null,
            "grid_area": null,
            "grid_auto_columns": null,
            "grid_auto_flow": null,
            "grid_auto_rows": null,
            "grid_column": null,
            "grid_gap": null,
            "grid_row": null,
            "grid_template_areas": null,
            "grid_template_columns": null,
            "grid_template_rows": null,
            "height": null,
            "justify_content": null,
            "justify_items": null,
            "left": null,
            "margin": null,
            "max_height": null,
            "max_width": null,
            "min_height": null,
            "min_width": null,
            "object_fit": null,
            "object_position": null,
            "order": null,
            "overflow": null,
            "overflow_x": null,
            "overflow_y": null,
            "padding": null,
            "right": null,
            "top": null,
            "visibility": null,
            "width": null
          }
        },
        "3aa8e75bee9145b3ba421e9fd386db98": {
          "model_module": "@jupyter-widgets/controls",
          "model_name": "DescriptionStyleModel",
          "model_module_version": "1.5.0",
          "state": {
            "_model_module": "@jupyter-widgets/controls",
            "_model_module_version": "1.5.0",
            "_model_name": "DescriptionStyleModel",
            "_view_count": null,
            "_view_module": "@jupyter-widgets/base",
            "_view_module_version": "1.2.0",
            "_view_name": "StyleView",
            "description_width": ""
          }
        },
        "35053a1868da4d55b0555db5fbeda37f": {
          "model_module": "@jupyter-widgets/base",
          "model_name": "LayoutModel",
          "model_module_version": "1.2.0",
          "state": {
            "_model_module": "@jupyter-widgets/base",
            "_model_module_version": "1.2.0",
            "_model_name": "LayoutModel",
            "_view_count": null,
            "_view_module": "@jupyter-widgets/base",
            "_view_module_version": "1.2.0",
            "_view_name": "LayoutView",
            "align_content": null,
            "align_items": null,
            "align_self": null,
            "border": null,
            "bottom": null,
            "display": null,
            "flex": null,
            "flex_flow": null,
            "grid_area": null,
            "grid_auto_columns": null,
            "grid_auto_flow": null,
            "grid_auto_rows": null,
            "grid_column": null,
            "grid_gap": null,
            "grid_row": null,
            "grid_template_areas": null,
            "grid_template_columns": null,
            "grid_template_rows": null,
            "height": null,
            "justify_content": null,
            "justify_items": null,
            "left": null,
            "margin": null,
            "max_height": null,
            "max_width": null,
            "min_height": null,
            "min_width": null,
            "object_fit": null,
            "object_position": null,
            "order": null,
            "overflow": null,
            "overflow_x": null,
            "overflow_y": null,
            "padding": null,
            "right": null,
            "top": null,
            "visibility": null,
            "width": null
          }
        },
        "5739b6d73bce4b7b8521244dfe15657d": {
          "model_module": "@jupyter-widgets/controls",
          "model_name": "DescriptionStyleModel",
          "model_module_version": "1.5.0",
          "state": {
            "_model_module": "@jupyter-widgets/controls",
            "_model_module_version": "1.5.0",
            "_model_name": "DescriptionStyleModel",
            "_view_count": null,
            "_view_module": "@jupyter-widgets/base",
            "_view_module_version": "1.2.0",
            "_view_name": "StyleView",
            "description_width": ""
          }
        },
        "3c5fe9a7a94d4e7883876aefd7283499": {
          "model_module": "@jupyter-widgets/base",
          "model_name": "LayoutModel",
          "model_module_version": "1.2.0",
          "state": {
            "_model_module": "@jupyter-widgets/base",
            "_model_module_version": "1.2.0",
            "_model_name": "LayoutModel",
            "_view_count": null,
            "_view_module": "@jupyter-widgets/base",
            "_view_module_version": "1.2.0",
            "_view_name": "LayoutView",
            "align_content": null,
            "align_items": null,
            "align_self": null,
            "border": null,
            "bottom": null,
            "display": null,
            "flex": null,
            "flex_flow": null,
            "grid_area": null,
            "grid_auto_columns": null,
            "grid_auto_flow": null,
            "grid_auto_rows": null,
            "grid_column": null,
            "grid_gap": null,
            "grid_row": null,
            "grid_template_areas": null,
            "grid_template_columns": null,
            "grid_template_rows": null,
            "height": null,
            "justify_content": null,
            "justify_items": null,
            "left": null,
            "margin": null,
            "max_height": null,
            "max_width": null,
            "min_height": null,
            "min_width": null,
            "object_fit": null,
            "object_position": null,
            "order": null,
            "overflow": null,
            "overflow_x": null,
            "overflow_y": null,
            "padding": null,
            "right": null,
            "top": null,
            "visibility": null,
            "width": null
          }
        },
        "4351f66515eb49ba8c6fc76d987550fe": {
          "model_module": "@jupyter-widgets/controls",
          "model_name": "DescriptionStyleModel",
          "model_module_version": "1.5.0",
          "state": {
            "_model_module": "@jupyter-widgets/controls",
            "_model_module_version": "1.5.0",
            "_model_name": "DescriptionStyleModel",
            "_view_count": null,
            "_view_module": "@jupyter-widgets/base",
            "_view_module_version": "1.2.0",
            "_view_name": "StyleView",
            "description_width": ""
          }
        }
      }
    }
  },
  "cells": [
    {
      "cell_type": "code",
      "source": [
        "!git clone https://github.com/EmanueleCeglia/PDF-Metadata-Extractor.git"
      ],
      "metadata": {
        "id": "MHIbcKwxLuKy"
      },
      "execution_count": null,
      "outputs": []
    },
    {
      "cell_type": "code",
      "source": [
        "drive.mount('/content/drive', force_remount=True)"
      ],
      "metadata": {
        "id": "GbFmqLeBb2iY"
      },
      "execution_count": null,
      "outputs": []
    },
    {
      "cell_type": "code",
      "source": [
        "%cd PDF-Metadata-Extractor"
      ],
      "metadata": {
        "id": "Zf98MyPQL2Lz"
      },
      "execution_count": null,
      "outputs": []
    },
    {
      "cell_type": "code",
      "source": [
        "!pip install -r requirements.txt"
      ],
      "metadata": {
        "id": "U0w-7EwSL9kr"
      },
      "execution_count": null,
      "outputs": []
    },
    {
      "cell_type": "code",
      "source": [
        "!apt-get install ghostscript -y"
      ],
      "metadata": {
        "id": "MNXmHnKO4x0T"
      },
      "execution_count": null,
      "outputs": []
    },
    {
      "cell_type": "markdown",
      "source": [
        "## Extract Dates"
      ],
      "metadata": {
        "id": "UiWcGaIttFL-"
      }
    },
    {
      "cell_type": "code",
      "source": [
        "from transformers import AutoTokenizer, AutoModelForCausalLM\n",
        "from pdf_extractor import PDFDatesFinderSemanticSearch  #old method\n",
        "from pdf_extractor import PDFDatesFinderSpace   #new method\n",
        "from pdf_extractor import PDFDeductiblesFinder\n",
        "import os\n",
        "import re\n",
        "from tqdm import tqdm\n",
        "from google.colab import drive\n",
        "import json"
      ],
      "metadata": {
        "id": "Sl0zsSAz7gHE"
      },
      "execution_count": 5,
      "outputs": []
    },
    {
      "cell_type": "markdown",
      "source": [
        "Download model"
      ],
      "metadata": {
        "id": "2zaVl7xYvVfg"
      }
    },
    {
      "cell_type": "code",
      "source": [
        "tokenizer = AutoTokenizer.from_pretrained(\"Open-Orca/OpenOrca-Platypus2-13B\")\n",
        "model = AutoModelForCausalLM.from_pretrained(\"Open-Orca/OpenOrca-Platypus2-13B\", device_map=\"auto\", load_in_8bit=True)"
      ],
      "metadata": {
        "id": "i6qxZyr37hMq"
      },
      "execution_count": null,
      "outputs": []
    },
    {
      "cell_type": "code",
      "source": [
        "from huggingface_hub import notebook_login\n",
        "notebook_login()"
      ],
      "metadata": {
        "id": "KHStCxe-eOib",
        "outputId": "30992c2b-ff9b-4f6d-ddad-add2252ab329",
        "colab": {
          "base_uri": "https://localhost:8080/",
          "height": 145,
          "referenced_widgets": [
            "7f76f994c7fa4c13ba1485f648ab5a56",
            "8c47d757314c41dda553af50ec260aba",
            "cf902bcb49f8407eb31412dc57acc4d0",
            "03c8afaeb3e847c7ae01d0abcfa34f44",
            "44ec9aded94c4ec09a837ede9ece454b",
            "ec4603d3d1aa485e9acd0e111c352dea",
            "22a8639dbc594a80b7ff45c54e8c3a59",
            "2fdcedf11c9c40e5abdcfa6074a3ecb9",
            "b3b5c3c8a2704ac8bbbf2ff9493aafa8",
            "f7fd96054fca483ab3e3e0d9b14750a6",
            "8a97ca0d6a694dc194f9a42968415b1f",
            "f5ca99150be341e4a40da20f6d5785b6",
            "6b7ce58fb84d493b92ea6225705027ec",
            "5dec1adb6dca4f9ba27e7cafbb95cd13",
            "caa3e89d1c8744ce941f0b4563cf0ed4",
            "1e48fb77a7184d9884fee5b045392c18",
            "43513e0162c944ad93782ef1fbf01d0f",
            "d81b1fd69b1e4e808a5d4778126fe127",
            "453215dd3a2f415cbd5c44a07a56288a",
            "8d91d91d01c24ed58d9e8351240f3156",
            "2fe07b31b1fe45c78fef8b5977bbc461",
            "188ab5844fe4490581fbbbff13669e18",
            "8778f96dd1bf44b6acb6630bdf3f83bf",
            "95ee1ddaf99344b7a522d2a07b4a6578",
            "9b3b2b75c7b2498095dcae90e868d2cf",
            "ef2fbf0e609b47eba2edf77673f513d2",
            "a7c3b39f6ce64315b47803212fbc1293",
            "3aa8e75bee9145b3ba421e9fd386db98",
            "35053a1868da4d55b0555db5fbeda37f",
            "5739b6d73bce4b7b8521244dfe15657d",
            "3c5fe9a7a94d4e7883876aefd7283499",
            "4351f66515eb49ba8c6fc76d987550fe"
          ]
        }
      },
      "execution_count": 19,
      "outputs": [
        {
          "output_type": "display_data",
          "data": {
            "text/plain": [
              "VBox(children=(HTML(value='<center> <img\\nsrc=https://huggingface.co/front/assets/huggingface_logo-noborder.sv…"
            ],
            "application/vnd.jupyter.widget-view+json": {
              "version_major": 2,
              "version_minor": 0,
              "model_id": "7f76f994c7fa4c13ba1485f648ab5a56"
            }
          },
          "metadata": {}
        }
      ]
    },
    {
      "cell_type": "code",
      "source": [
        "tokenizer = AutoTokenizer.from_pretrained(\"meta-llama/Llama-2-7b-hf\")\n",
        "model = AutoModelForCausalLM.from_pretrained(\"meta-llama/Llama-2-7b-hf\")"
      ],
      "metadata": {
        "id": "2aUVObqZcGho"
      },
      "execution_count": null,
      "outputs": []
    },
    {
      "cell_type": "code",
      "source": [
        "def post_process_response_dates(text):\n",
        "    start_date_pattern = r\"Start date:\\s*([0-9]+[a-z]*\\s+[A-Z][a-z]+\\s+[0-9]{4})\"\n",
        "    end_date_pattern = r\"End date:\\s*([0-9]+[a-z]*\\s+[A-Z][a-z]+\\s+[0-9]{4})\"\n",
        "\n",
        "    start_date_match = re.search(start_date_pattern, text)\n",
        "    end_date_match = re.search(end_date_pattern, text)\n",
        "\n",
        "    result = {}\n",
        "    if start_date_match and end_date_match:\n",
        "        result['Start date'] = start_date_match.group(1)\n",
        "        result['End date'] = end_date_match.group(1)\n",
        "    else:\n",
        "        return None\n",
        "\n",
        "    return result\n",
        "\n",
        "# second level filter\n",
        "def find_dates_regex(string):\n",
        "    pattern = r'\\b\\d{1,2}/\\d{1,2}/\\d{4}\\b|\\b\\d{1,2} [A-Za-z]+ \\d{4}\\b|\\b\\d{1,2}(?:st|nd|rd|th)? [A-Za-z]+ \\d{4}\\b|\\b[A-Za-z]+ \\d{1,2}(?:st|nd|rd|th)? \\d{4}\\b'\n",
        "    dates = re.findall(pattern, string)\n",
        "    if len(dates) >= 2:\n",
        "        return f\"Start date: {dates[0]} End date: {dates[1]}\"\n",
        "    elif len(dates) == 1:\n",
        "        return f\"Start date: {dates[0]} End date: None\"\n",
        "    else:\n",
        "        return \"No dates found\""
      ],
      "metadata": {
        "id": "ihmEWA-uB9Ac"
      },
      "execution_count": null,
      "outputs": []
    },
    {
      "cell_type": "markdown",
      "source": [
        "Dates extraction with OLD METHOD (don't use)"
      ],
      "metadata": {
        "id": "titiBIbjBvUv"
      }
    },
    {
      "cell_type": "code",
      "source": [
        "insurances_folder_path = \"/content/PDF-Metadata-Extractor/Insurances\"\n",
        "\n",
        "extracted_dates = {}\n",
        "\n",
        "for root, dirs, files in os.walk(insurances_folder_path):\n",
        "    for file_name in tqdm(files):\n",
        "        full_file_path = os.path.join(root, file_name)\n",
        "\n",
        "        extraction = PDFDatesFinderSemanticSearch(full_file_path)\n",
        "        extraction.load_pdf()\n",
        "        extraction.process_text()\n",
        "        dates = extraction.find_dates()\n",
        "\n",
        "        for value in dates.values():\n",
        "          for phrase in value.values():\n",
        "            if len(phrase):\n",
        "              sentence = phrase[0]\n",
        "\n",
        "              prompt = \"Find start date and end date from the following sentence: \" + sentence\n",
        "              inputs = tokenizer(prompt, return_tensors=\"pt\")\n",
        "              generate_ids = model.generate(inputs.input_ids, max_length=1000)\n",
        "              response = tokenizer.batch_decode(generate_ids, skip_special_tokens=True, clean_up_tokenization_spaces=False)[0]\n",
        "              response = post_process_response_dates(response)\n",
        "\n",
        "              if response:\n",
        "                extracted_dates[str(file_name)] = response\n",
        "                print(str(file_name) + ' EXTRACTED!')\n",
        "              else:\n",
        "                print(str(file_name) + ' NOT FOUND!')"
      ],
      "metadata": {
        "id": "Ss5J8bpD_d8V"
      },
      "execution_count": null,
      "outputs": []
    },
    {
      "cell_type": "markdown",
      "source": [
        "##Dates extraction with NEW METHOD"
      ],
      "metadata": {
        "id": "jp-4QzmqarZ0"
      }
    },
    {
      "cell_type": "code",
      "source": [
        "insurances_folder_path = \"/content/PDF-Metadata-Extractor/Insurances\"\n",
        "\n",
        "extracted_dates = {}\n",
        "\n",
        "for root, dirs, files in os.walk(insurances_folder_path):\n",
        "    for file_name in tqdm(files):\n",
        "        full_file_path = os.path.join(root, file_name)\n",
        "\n",
        "        # Dates extraction\n",
        "        extractor_dates = PDFDatesFinderSpace(full_file_path)\n",
        "        pages, tables = extractor_dates.extract_mytext()\n",
        "        paragraphs = [extractor_dates.identify_paragraphs_space(page) for page in pages]\n",
        "\n",
        "        # keywords filter 1th level\n",
        "        check_kw = False\n",
        "        for phrase in paragraphs:\n",
        "          for sentence in phrase:\n",
        "            if re.search(r'\\bperiod\\b', sentence, re.IGNORECASE):\n",
        "              check_kw = True\n",
        "\n",
        "        if check_kw:\n",
        "          # Use a list comprehension with regex to keep only the phrases that contain the word \"period\" (case-insensitive)\n",
        "          paragraphs = [sublist for sublist in paragraphs if any(re.search(r'\\bperiod\\b', phrase, re.IGNORECASE) for phrase in sublist)]\n",
        "\n",
        "          # Now, further filter each sublist to keep only the phrases that contain the word \"period\"\n",
        "          paragraphs = [[phrase for phrase in sublist if re.search(r'\\bperiod\\b', phrase, re.IGNORECASE)] for sublist in paragraphs]\n",
        "\n",
        "\n",
        "        responses = []\n",
        "        for phrase in paragraphs:\n",
        "          if len(phrase):\n",
        "            for sentence in phrase:\n",
        "              sentcence = sentence.replace(',', '')\n",
        "              prompt = \"Find start date and end date from the following sentence: \" + sentence\n",
        "              inputs = tokenizer(prompt, return_tensors=\"pt\")\n",
        "              generate_ids = model.generate(inputs.input_ids, max_length=200)\n",
        "              response = tokenizer.batch_decode(generate_ids, skip_special_tokens=True, clean_up_tokenization_spaces=False)[0]\n",
        "              response = post_process_response_dates(response)\n",
        "\n",
        "              if response:\n",
        "                  responses.append(response)\n",
        "                  #print(response)\n",
        "\n",
        "        if len(responses)==0:\n",
        "          # Parse with regex for prompt fails\n",
        "          for phrase in paragraphs:\n",
        "            if len(phrase):\n",
        "              if len(phrase)>1:\n",
        "                phrase = [' '.join(phrase)]\n",
        "              for sentence in phrase:\n",
        "                  sentence = sentence.replace(',','')\n",
        "                  response = find_dates_regex(sentence)\n",
        "                  responses.append(response)\n",
        "\n",
        "        if responses:\n",
        "          print(str(file_name) + ' EXTRACTED!')\n",
        "          extracted_dates[str(file_name)] = responses\n",
        "        else:\n",
        "          print(str(file_name) + ' NOT FOUND!')"
      ],
      "metadata": {
        "id": "5qIvItUGavzo"
      },
      "execution_count": null,
      "outputs": []
    },
    {
      "cell_type": "code",
      "source": [
        "path_dates = \"/content/drive/MyDrive/PDFExtractor /Extracted Dates/extracted_dates.json\"\n",
        "\n",
        "# Scrive il dizionario in un file JSON\n",
        "with open(path_dates, 'w') as file:\n",
        "    json.dump(extracted_dates, file)\n",
        "\n",
        "print(\"File JSON salvato con successo!\")"
      ],
      "metadata": {
        "id": "l-AQbH651T3Z",
        "outputId": "b1149454-3e75-4318-9ef0-2908261272fe",
        "colab": {
          "base_uri": "https://localhost:8080/"
        }
      },
      "execution_count": null,
      "outputs": [
        {
          "output_type": "stream",
          "name": "stdout",
          "text": [
            "File JSON salvato con successo!\n"
          ]
        }
      ]
    },
    {
      "cell_type": "markdown",
      "source": [
        "##Deductibles extraction"
      ],
      "metadata": {
        "id": "k82B5AprFJz-"
      }
    },
    {
      "cell_type": "code",
      "source": [
        "insurances_folder_path = \"/content/PDF-Metadata-Extractor/Insurances\"\n",
        "\n",
        "# Destination folder in which save deductibles .txt\n",
        "path_deductibles = \"/content/drive/MyDrive/PDFExtractor /Extracted Deductibles\"\n",
        "\n",
        "deductibles = {}\n",
        "\n",
        "for root, dirs, files in os.walk(insurances_folder_path):\n",
        "    for file_name in tqdm(files):\n",
        "        full_file_path = os.path.join(root, file_name)\n",
        "\n",
        "        extractor_deductibles = PDFDeductiblesFinder(full_file_path)\n",
        "        pages, pages_words, tables = extractor_deductibles.extract_mytext()\n",
        "        pages_with_ded = extractor_deductibles.identify_deductibles_pages(pages, pages_words)\n",
        "        deductibles[file_name] = pages_with_ded\n",
        "\n",
        "        file_name_txt = os.path.splitext(file_name)[0] + \".txt\"\n",
        "        file_path_txt = os.path.join(path_deductibles, file_name_txt)\n",
        "        with open(file_path_txt, 'w', encoding='utf-8') as file:\n",
        "            for page in pages_with_ded:\n",
        "                file.write(page)"
      ],
      "metadata": {
        "id": "2xC2eFu6FNFC",
        "outputId": "ce26e03e-9e7e-4b57-a142-4be2b471e978",
        "colab": {
          "base_uri": "https://localhost:8080/"
        }
      },
      "execution_count": 26,
      "outputs": [
        {
          "output_type": "stream",
          "name": "stderr",
          "text": [
            "100%|██████████| 1/1 [01:43<00:00, 103.27s/it]\n",
            "0it [00:00, ?it/s]\n"
          ]
        }
      ]
    },
    {
      "cell_type": "code",
      "source": [
        "sentence = deductibles['policy_9.pdf']"
      ],
      "metadata": {
        "id": "guMIL8BrDcMM"
      },
      "execution_count": 28,
      "outputs": []
    },
    {
      "cell_type": "code",
      "source": [
        "sentence.split('\\n')"
      ],
      "metadata": {
        "id": "PlPry3XpJFLi",
        "outputId": "c719737f-a13c-4040-b1d0-aed446136232",
        "colab": {
          "base_uri": "https://localhost:8080/"
        }
      },
      "execution_count": 29,
      "outputs": [
        {
          "output_type": "execute_result",
          "data": {
            "text/plain": [
              "['Deductibles detailed herein and subject to Sub-limits as per',\n",
              " '                              Schedule A.                                         ',\n",
              " '                              Business Interruption - H2ID                        ',\n",
              " '                              Gross Profit: USD 95,000,000                        ',\n",
              " '                              Indemnity Period: 24 months                         ',\n",
              " '                              Business Interruption - OMIS                        ',\n",
              " '                              Gross Profit: USD 23,400,000                        ',\n",
              " '                              Indemnity Period: 12 months                         ',\n",
              " '          DEDUCTIBLES:        Earthquake: USD 1,250,000 each and every loss property',\n",
              " '                                         damage property damage and business      ',\n",
              " '                                         interruption combined.                   ',\n",
              " '                              Any other loss in respect of:                       ',\n",
              " '                              Property Damage: USD 300,000 each and every loss    ',\n",
              " '                              Business Interruption: 7 Working Days each and every loss',\n",
              " '                              but 3 Working Days each and every loss in respect of Public',\n",
              " '                              Services Extension.                                 ',\n",
              " '          REINSURED’S                                                             ',\n",
              " '                              Notice of Retention, if any, is waived. Any other provision, express',\n",
              " '          RETENTION:                                                              ',\n",
              " \"                              or implied, concerning the Reinsured's retention obligations which\",\n",
              " '                              may be contained elsewhere herein are of no effect. ',\n",
              " '          SITUATION:          Israel and world-wide as more full defined in the Original Policy',\n",
              " '                              Wording.                                            ',\n",
              " '',\n",
              " '          REINSURANCE                                                             ',\n",
              " '          CONDITIONS:         All terms, clauses and conditions as Original Policy (Clal Insurance',\n",
              " '                              All Risks of Direct Physical Loss or Damage including Machinery',\n",
              " '                              Breakdown and Consequential Loss Insurance Policy No.',\n",
              " '                              266512288) in so far as may be applicable to this reinsurance.',\n",
              " '                              This reinsurance is subject to the same terms and conditions as the',\n",
              " '                              original policy and reinsurers will follow the settlements of the',\n",
              " '                              original policy. If required, payment hereon shall take place at the',\n",
              " '                              same time as settlement or advance of funds under the said original',\n",
              " '                              policy                                              ',\n",
              " '                              Lenders Endorsement - Reinsurance Policy Endorsement, as',\n",
              " '                              attached.                                           ',\n",
              " '                              War and Terrorism Exclusion as Original Policy.     ',\n",
              " '                              Nothing in this reinsurance policy shall be construed to be a',\n",
              " '                              condition precedent or a warranty unless expressly stated to be one',\n",
              " '                              in this reinsurance policy.                         ',\n",
              " '          ORIGINAL                                                                ',\n",
              " '          CONDITIONS:         Original conditions include but are not limited to:-',\n",
              " '                              72 hour clause in respect of Earthquake and Natural Perils.',\n",
              " '                              Loss or damage to Property Insured due to “Pal – Kal” construction',\n",
              " '                              Exclusion                                           ',\n",
              " '                              Transmission and Distribution Lines Exclusion       ',\n",
              " '                              NMA 1622 Radioactive Contamination and Explosive Nuclear',\n",
              " '                              Assemblies Exclusion                                ',\n",
              " '                              Microorganism Exclusion Clause as Original Policy   ',\n",
              " '                              LMA 3100 Sanction Limitation and Exclusion Clause   ',\n",
              " '                              NMA 2915 Electronic Data Endorsement B (amended) as Original',\n",
              " '                              Policy                                              ',\n",
              " '                              LMA 5393 Communicable Disease Endorsement           ',\n",
              " '                              Lenders Endorsement - Insurance Policy Endorsement, as attached.',\n",
              " '                              It is specifically clarified and agreed that Insurance proceeds relating',\n",
              " '                              to Omis Business Interruption are not subject to Lenders',\n",
              " '                              Endorsement and/or any assignment of rights agreed by H2ID and the',\n",
              " '                              Insurer.                                            ',\n",
              " '                              Attachment 3, as attached.                          ',\n",
              " '                              Special Provisions, as attached.                    ']"
            ]
          },
          "metadata": {},
          "execution_count": 29
        }
      ]
    },
    {
      "cell_type": "code",
      "source": [
        "prompt = \"Extract only deductibles from the following text: \" + sentence\n",
        "inputs = tokenizer(prompt, return_tensors=\"pt\")\n",
        "\n",
        "generate_ids = model.generate(inputs.input_ids, max_length=4000)\n",
        "response = tokenizer.batch_decode(generate_ids, skip_special_tokens=True, clean_up_tokenization_spaces=False)[0]"
      ],
      "metadata": {
        "id": "pb2N7JR0D3We"
      },
      "execution_count": null,
      "outputs": []
    },
    {
      "cell_type": "code",
      "source": [
        "response"
      ],
      "metadata": {
        "id": "3Q9Rv-njfUVF",
        "outputId": "9ff40fc4-bdb1-4788-eac5-3f77fae8f2ed",
        "colab": {
          "base_uri": "https://localhost:8080/",
          "height": 105
        }
      },
      "execution_count": 25,
      "outputs": [
        {
          "output_type": "execute_result",
          "data": {
            "text/plain": [
              "'What are the deductibles mentioned in the text and their corresponding amounts?  TEXT: DEDUCTIBLES:      As specified in the schedule attached.                  \\n        SITUATION:        Anywhere in the world but excluding Afghanistan, Albania, Algeria,\\n                          Angola, Armenia, Azerbaijan, Belarus, Benin, Botswana, Burkina-Faso,\\n                          Burundi, Cameroon, Cape Verde, Central African Republic, Chad,\\n                          Comoros, Republic of the Congo, Democratic Republic of the Congo,\\n                          Cuba, Djibouti, Equatorial Guinea, Egypt, Eritrea, Ethiopia, Gabon,\\n                          Gambia, Ghana, Guinea, Guinea-Bissau, Georgia, Haiti, Iran, Iraq,\\n                          Ivory Coast, Kazakhstan, Kampuchea (Cambodia), Kenya, Kyrgyzia,\\n                          Laos, Lebanon, Lesotho, Liberia, Libya, Madagascar, Malawi, Mali,\\n                          Mauritania, Mayotte, Miramar, Mongolia, Montenegro, Mozambique,\\n                          Myanmar, Namibia, Niger, Nigeria, North Korea, Pakistan, Palestine,\\n                          Reunion, Rwanda, Sao Tome and Principe, Senegal, Sierra Leone,\\n                          Somalia, South Sudan, Swaziland, Syria, Tajikistan, Tanzania, Tibet,\\n                          Togo, Turkmenistan, Uganda, Uzbekistan, Western Sahara, Yemen,\\n                          Zambia, Zimbabwe as more fully defined in the policy wording.\\n        CONDITIONS:       Wording: As per expiring Zurich Master policy wording 7113144.\\n                          Amended as agreed by Zurich and as otherwise detailed in the policy\\n                          wording as issued by Zurich                             \\n                          Molten Metal Breakout sub limited to EUR 70,000,000     \\n                          Riot and Civil Commotion sub limited to EUR 75,000,000 inclusive of\\n                          deductible                                              \\n                          Removal of Debris sub limited to EUR 30,000,000         \\n                          Cyber and Data Exclusion as per Zurich Wording Perils Excluded 4.11\\n                          Communicable Disease Exclusion as per Zurich Wording Perils\\n                          Excluded 4,19                                           \\n                          Potential Sale of Tata Steel Netherlands Holdings BV    \\n                          In the event of completion of the sale of Tata Steel Netherlands\\n                          Holdings BV and its Subsidiary Companies, Underwriters hereon agree\\n                          to allow a pro-rata return premium. It is noted that the minimum earned\\n                          premium will be no less than 90 days.                   \\n        NOTICES:          Complaints Procedure Notice (Commercial) as attached.   \\n                          Claims Notice as attached.                              \\n        EXPRESS                                                                   \\n        WARRANTIES:       As per policy wording, if any.                          \\n        CONDITIONS                                                                \\n\\n        PRECEDENT:        As per policy wording, if any.                          \\n        SUBJECTIVITIES:   None                                                    \\n        INNER LIMITS:     Property Damage and Business Interruption combined      \\n                          Earthquake and Earthquake Shock                         \\n                          USA                                   Not Insured       \\n                          Italy                                 Not Insured       \\n                          Japan                                 Not Insured       \\n                          China                                 Not Insured       \\n                          Any other territory declared to and accepted            \\n                          by the Insurers                   EUR 230,000,000       \\n                          Any other territory                   Not Insured       \\n                          Flood                                                   \\n                          Netherlands                           Not Insured       \\n                          USA                                   Not Insured       \\n                          Any other territory declared to and accepted            \\n                          by the Insurers                   EUR 230,000,000       \\n                          Any other territory                   Not Insured       \\n                          Storm and Named Storm                                   \\n                          Netherlands                       EUR 230,000,000       \\n                          USA                                   Not Insured       \\n                          Any other territory declared to and accepted            \\n                          by the Insurers                   EUR 230,000,000       \\n                          Any other territory                   Not Insured       \\n                          Cracking, fracturing, collapse or overheating           \\n                          of pressure vessels as defined in the policy            \\n                          (excluding blast furnaces)         EUR 57,500,000       \\n                          Coinsurance Deficiency             EUR 30,000,000       \\n                          Demurrage and Port Blockage        EUR 30,000,000       \\n                          Difference in Conditions (where                         \\n                          Zurich do not issue local policy)  EUR 30,000,000       \\n                          Property Damage                                         \\n                          Capital Additions / New Acquisitions EUR 30,000,000     \\n                          Computer Systems Records           EUR 10,000,000       \\n                          Buildings in Course of Construction EUR 20,000,000      \\n                          Greening                           EUR 6,000,000        \\n                          Inadvertent Omissions (in declared                      \\n                          territories only)                  EUR 10,000,000       \\n                          Unspecified Storage Sites          EUR 10,000,000       \\n\\nDeductibles                           \\n        Category I - Major “hot metal” Business Units (Code A) EUR 30,000,000 each\\n                                                          loss                    \\n        \\uf0b7 Strip Ijmuiden                                                          \\n        \\uf0b7 Strip UK                                                                \\n        \\uf0b7 Packaging                                                               \\n        \\uf0b7 Colors - Shotton and Ijmuiden                                           \\n        Category II - Downstream manufacturing Business Units (Code B) EUR 17,500,000 each\\n                                                          loss                    \\n        \\uf0b7 Tubes                                                                   \\n        Category III - Downstream manufacturing Business Units (Code C) EUR 6,000,000 each\\n                                                          loss                    \\n        \\uf0b7 Colors - Walsall                                                        \\n        Category IV - Diversified and low risk activities (Code D) EUR 1,200,000 each\\n                                                          loss                    \\n        \\uf0b7 Distribution                                                            \\n        \\uf0b7 Building Systems                                                        \\n        \\uf0b7 Research Development & Technology (excluding Ijmuiden)                  \\n        \\uf0b7 Research Development & Technology - Ijmuiden                            \\n        \\uf0b7 Head Office                                                             \\n        \\uf0b7 Unspecified Storage Locations                                           \\n'"
            ],
            "application/vnd.google.colaboratory.intrinsic+json": {
              "type": "string"
            }
          },
          "metadata": {},
          "execution_count": 25
        }
      ]
    }
  ]
}